{
 "cells": [
  {
   "cell_type": "code",
   "execution_count": 2,
   "metadata": {
    "collapsed": false
   },
   "outputs": [],
   "source": [
    "%load_ext autoreload\n",
    "%autoreload 2"
   ]
  },
  {
   "cell_type": "code",
   "execution_count": 3,
   "metadata": {
    "collapsed": false
   },
   "outputs": [
    {
     "name": "stdout",
     "output_type": "stream",
     "text": [
      "https://blockchain.info/multiaddr?cors=true&api_code=0fe3c82d-156d-405e-b8d4-eff695003036&active=1MKxXQvNjS78WaeZniUBKB5hbGwDSPzBTt|1J6LQKpcYTN5EEs9Ly1sEmNbWx6MFZ4NVT|1NbYpjej4tUG1LoXNcaHXEAv2BrNaE3Qn8|14ABDAcQ5vXQkKpmNHZfzEb8Ki1Thrr7gy|15idxQtkbpox9xKDQGxqjoqiqpWMEeTwgJ|1KnApPxStmyPds8ngsbPm8KFDRB2Rcvt9r\n"
     ]
    }
   ],
   "source": [
    "import bets\n",
    "print(bets.url)"
   ]
  },
  {
   "cell_type": "code",
   "execution_count": 4,
   "metadata": {
    "collapsed": false
   },
   "outputs": [],
   "source": [
    "data = bets.getJSON(bets.url)"
   ]
  },
  {
   "cell_type": "code",
   "execution_count": 5,
   "metadata": {
    "collapsed": false
   },
   "outputs": [],
   "source": [
    "for i, address in enumerate(bets.address):\n",
    "    assert data['addresses'][bets.order[i]]['address'] == address"
   ]
  },
  {
   "cell_type": "code",
   "execution_count": 6,
   "metadata": {
    "collapsed": false
   },
   "outputs": [
    {
     "data": {
      "text/plain": [
       "[2030000, 16230000, 1022000, 252000, 238000, 140000]"
      ]
     },
     "execution_count": 6,
     "metadata": {},
     "output_type": "execute_result"
    }
   ],
   "source": [
    "balances = bets.balance(data)\n",
    "balances"
   ]
  },
  {
   "cell_type": "code",
   "execution_count": 7,
   "metadata": {
    "collapsed": false
   },
   "outputs": [
    {
     "data": {
      "text/plain": [
       "[3.29, 1, 13.89, 318.29, 317.81, 898.76]"
      ]
     },
     "execution_count": 7,
     "metadata": {},
     "output_type": "execute_result"
    }
   ],
   "source": [
    "coeffs = bets.bet(balances)\n",
    "coeffs"
   ]
  },
  {
   "cell_type": "code",
   "execution_count": 8,
   "metadata": {
    "collapsed": false
   },
   "outputs": [
    {
     "name": "stdout",
     "output_type": "stream",
     "text": [
      "Premio estimado promedio: 18941743\n",
      "Balance total: 19912000\n",
      "Suma porcentajes PASO: 102.33\n",
      "Premio en cada caso: [6678700, 16230000, 14195580, 80209080, 75638780, 125826400]\n",
      "Márgenes:            [13233300, 3682000, 5716420, -60297080, -55726780, -105914400]\n"
     ]
    }
   ],
   "source": [
    "premios = [int(b*c) for b, c in zip(balances, coeffs)]\n",
    "balance_total = sum(balances)\n",
    "\n",
    "print('Premio estimado promedio:', sum(int(premio * paso/100) for premio, paso in zip(premios, bets.paso)))\n",
    "print('Balance total:', balance_total)\n",
    "print('Suma porcentajes PASO:', sum(bets.paso))\n",
    "print('Premio en cada caso:', premios)\n",
    "print('Márgenes:           ', [balance_total-premio for premio in premios])"
   ]
  },
  {
   "cell_type": "markdown",
   "metadata": {},
   "source": [
    "- El Premio estimado promedio es menor pero próximo al Balance total: esto indica que en el promedio de los casos de infinitas jugadas, el balance en promedio va a alcanzar para pagar los premios.\n",
    "- La Suma porcentajes PASO es mayor a 100%, por qué?\n",
    "- Hay márgenes negativos: esto significa que si llegara a ganar ese candidato, no habría fondos recaudados suficientes para pagar el premio, enotonces de dónde va a salir la plata?"
   ]
  }
 ],
 "metadata": {
  "kernelspec": {
   "display_name": "Python 3",
   "language": "python",
   "name": "python3"
  },
  "language_info": {
   "codemirror_mode": {
    "name": "ipython",
    "version": 3
   },
   "file_extension": ".py",
   "mimetype": "text/x-python",
   "name": "python",
   "nbconvert_exporter": "python",
   "pygments_lexer": "ipython3",
   "version": "3.4.3"
  }
 },
 "nbformat": 4,
 "nbformat_minor": 0
}
